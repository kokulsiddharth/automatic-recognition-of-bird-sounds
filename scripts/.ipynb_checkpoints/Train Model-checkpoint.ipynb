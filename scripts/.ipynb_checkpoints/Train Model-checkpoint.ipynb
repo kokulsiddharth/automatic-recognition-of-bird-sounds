{
 "cells": [
  {
   "cell_type": "code",
   "execution_count": 37,
   "metadata": {
    "colab": {
     "base_uri": "https://localhost:8080/"
    },
    "executionInfo": {
     "elapsed": 8005,
     "status": "ok",
     "timestamp": 1636382475989,
     "user": {
      "displayName": "Kokul Siddharth",
      "photoUrl": "https://lh3.googleusercontent.com/a/default-user=s64",
      "userId": "15822717284927862388"
     },
     "user_tz": -480
    },
    "id": "Lz4Z948ppV0b",
    "outputId": "3b23e14b-bae9-447a-c801-d661ae4cd589"
   },
   "outputs": [],
   "source": [
    "import numpy as np\n",
    "import matplotlib.pyplot as plt\n",
    "import librosa, librosa.display\n",
    "from glob import iglob\n",
    "import os \n",
    "import csv\n",
    "import itertools\n",
    "from sklearn import metrics\n",
    "\n",
    "from keras.layers import Input, Conv2D, MaxPooling2D, UpSampling2D, BatchNormalization, Activation, Flatten, Dense\n",
    "from keras.models import Model,load_model\n",
    "from tensorflow.keras.optimizers import Adam\n",
    "from keras.callbacks import Callback\n",
    "from keras import backend as K"
   ]
  },
  {
   "cell_type": "code",
   "execution_count": 38,
   "metadata": {
    "id": "QacMCom-Pttd"
   },
   "outputs": [],
   "source": [
    "WINDOW_LEN = 512*2\n",
    "OVERLAP = 256*2\n",
    "N_MELS = 64\n",
    "SAMPLING_RATE = 44100\n",
    "FMIN = 1024\n",
    "FMAX = int(16384/2) "
   ]
  },
  {
   "cell_type": "code",
   "execution_count": 39,
   "metadata": {
    "id": "zE0VB8A0dFSB"
   },
   "outputs": [],
   "source": [
    "def get_melspectrogram(input_file_dir, output_file_dir):\n",
    "    \"\"\"This function generates the spectrogram and saves it as a npy file\"\"\"\n",
    "    spect_data = {}\n",
    "    spect_lst= []\n",
    "    \n",
    "    for file in iglob(input_file_dir + '/*.npy'):\n",
    "      bird_spect_lst = []\n",
    "      name = file[len(input_file_dir)+1:-13]\n",
    "      with open(file, 'rb') as f:\n",
    "        audio_data = np.load(f)\n",
    "      \n",
    "      for i in range(audio_data.shape[0]):\n",
    "        samples = audio_data[i]\n",
    "        mel_spec = librosa.feature.melspectrogram(samples, n_fft=WINDOW_LEN, hop_length=OVERLAP, n_mels=N_MELS,\n",
    "                                                  sr=SAMPLING_RATE, power=1.0, fmin=FMIN, fmax=FMAX)          \n",
    "        mel_spec_db = librosa.amplitude_to_db(mel_spec, ref=np.max)        \n",
    "        mel_spec_db = np.clip((mel_spec_db - np.amin(mel_spec_db)) / -np.amin(mel_spec_db), 0, 1)\n",
    "        \n",
    "        # plt.figure()\n",
    "        # librosa.display.specshow(mel_spec_db, sr=sampling_rate, hop_length=overlap, x_axis='time', y_axis='mel',fmin=fmin, fmax=fmax)\n",
    "        # plt.colorbar(format='%+2.0f dB')\n",
    "        # plt.title(item[len(test) + 1 :-4] + '.png')\n",
    "        # plt.tight_layout()\n",
    "        # plt.savefig(test_output + '/' + \"mel_\" + item[26:-4] + '.png')\n",
    "        # print(item[len(test) + 1 :-4] + '.png')\n",
    "\n",
    "        mel_spec_db = np.reshape(mel_spec_db, (mel_spec_db.shape[0],mel_spec_db.shape[1],1))\n",
    "        spect_lst.append(mel_spec_db)\n",
    "        bird_spect_lst.append(mel_spec_db)\n",
    "\n",
    "      if (\"train\" in input_file_dir) and (\"train\" in output_file_dir):\n",
    "        model_type = \"train\"\n",
    "      elif (\"test\" in input_file_dir) and (\"test\" in output_file_dir):\n",
    "        model_type = \"test\"\n",
    "      elif (\"validation\" in input_file_dir) and (\"validation\" in output_file_dir):\n",
    "        model_type = \"validation\"\n",
    "\n",
    "      with open(output_file_dir + '/' + name + '_spect_' + model_type + '.npy', 'wb') as f:\n",
    "          np.save(f, np.array(bird_spect_lst))\n",
    "\n",
    "    spect_data[\"spect\"] = np.array(spect_lst) \n",
    "    # print( spect_data[\"spect\"][:2])\n",
    "    spect_data[\"shape\"] = spect_data[\"spect\"].shape\n",
    "    return spect_data\n"
   ]
  },
  {
   "cell_type": "code",
   "execution_count": 40,
   "metadata": {
    "colab": {
     "base_uri": "https://localhost:8080/"
    },
    "executionInfo": {
     "elapsed": 9748,
     "status": "ok",
     "timestamp": 1636382514468,
     "user": {
      "displayName": "Kokul Siddharth",
      "photoUrl": "https://lh3.googleusercontent.com/a/default-user=s64",
      "userId": "15822717284927862388"
     },
     "user_tz": -480
    },
    "id": "v2qGPj1ph55c",
    "outputId": "e18cb97a-8b91-4517-e600-1d86c8496f23"
   },
   "outputs": [
    {
     "name": "stdout",
     "output_type": "stream",
     "text": [
      "(21171, 64, 120, 1)\n",
      "Training data gathered\n"
     ]
    }
   ],
   "source": [
    "train_arrays = '../bird-sounds-data/train/arrays'\n",
    "train_spectrograms = '../bird-sounds-data/train/spectrograms'\n",
    "\n",
    "train_dict = get_melspectrogram(train_arrays, train_spectrograms)\n",
    "x_train = train_dict[\"spect\"]\n",
    "print(train_dict[\"shape\"])\n",
    "print('Training data gathered')"
   ]
  },
  {
   "cell_type": "code",
   "execution_count": 41,
   "metadata": {},
   "outputs": [
    {
     "name": "stdout",
     "output_type": "stream",
     "text": [
      "(2351, 64, 120, 1)\n",
      "Validation data gathered\n"
     ]
    }
   ],
   "source": [
    "val_arrays = '../bird-sounds-data/validation/arrays'\n",
    "val_spectrograms = '../bird-sounds-data/validation/spectrograms'\n",
    "\n",
    "val_dict = get_melspectrogram(val_arrays, val_spectrograms)\n",
    "x_val = val_dict[\"spect\"]\n",
    "print(val_dict[\"shape\"])\n",
    "print('Validation data gathered')"
   ]
  },
  {
   "cell_type": "code",
   "execution_count": 43,
   "metadata": {
    "colab": {
     "base_uri": "https://localhost:8080/"
    },
    "executionInfo": {
     "elapsed": 7684,
     "status": "ok",
     "timestamp": 1636382565830,
     "user": {
      "displayName": "Kokul Siddharth",
      "photoUrl": "https://lh3.googleusercontent.com/a/default-user=s64",
      "userId": "15822717284927862388"
     },
     "user_tz": -480
    },
    "id": "a7mJ9Jx5BITX",
    "outputId": "1a46d28c-0bc9-450f-fcaf-f8dc3524f533"
   },
   "outputs": [],
   "source": [
    "shp = train_dict[\"shape\"][1:]\n",
    "\n",
    "input_img = Input(shape=shp)\n",
    "\n",
    "#Build the endoder\n",
    "encoded = Conv2D(filters=32, kernel_size=(5,5), input_shape=shp, padding='same')(input_img)\n",
    "encoded = BatchNormalization()(encoded)\n",
    "encoded = Activation('relu')(encoded)\n",
    "encoded = MaxPooling2D((2, 2), padding='same')(encoded)\n",
    "encoded = Conv2D(filters=16, kernel_size=(5,5), padding='same')(encoded)\n",
    "encoded = BatchNormalization()(encoded)\n",
    "encoded = Activation('relu')(encoded)\n",
    "encoded = MaxPooling2D((2,2), padding='same')(encoded)\n",
    "encoded = Conv2D(filters=8, kernel_size=(5,5), padding='same')(encoded)\n",
    "encoded = BatchNormalization()(encoded)\n",
    "encoded = Activation('relu')(encoded)\n",
    "encoded = MaxPooling2D((2, 2), padding='same')(encoded)\n",
    "encoded = Conv2D(filters=1, kernel_size=(5,5), padding='same')(encoded)\n",
    "encoded = BatchNormalization()(encoded)\n",
    "encoded = Activation('relu')(encoded)\n",
    "encoded = MaxPooling2D((2, 3), padding='same')(encoded)\n",
    "\n",
    "#Build the decoder\n",
    "decoded = Conv2D(filters=1, kernel_size=(5,5), activation='relu', padding='same')(encoded)\n",
    "decoded = UpSampling2D((2, 3))(decoded)\n",
    "decoded = Conv2D(filters=8, kernel_size=(5,5), activation='relu', padding='same')(decoded)\n",
    "decoded = UpSampling2D((2, 2))(decoded)\n",
    "decoded = Conv2D(filters=16, kernel_size=(5,5), activation='relu', padding='same')(decoded)\n",
    "decoded = UpSampling2D((2, 2))(decoded)\n",
    "decoded = Conv2D(filters=32, kernel_size=(5,5), activation='relu', padding='same')(decoded)\n",
    "decoded = UpSampling2D((2, 2))(decoded)\n",
    "decoded = Conv2D(filters=1, kernel_size=(5,5), activation='relu', padding='same')(decoded)"
   ]
  },
  {
   "cell_type": "code",
   "execution_count": 44,
   "metadata": {
    "colab": {
     "base_uri": "https://localhost:8080/"
    },
    "executionInfo": {
     "elapsed": 453,
     "status": "ok",
     "timestamp": 1636382571174,
     "user": {
      "displayName": "Kokul Siddharth",
      "photoUrl": "https://lh3.googleusercontent.com/a/default-user=s64",
      "userId": "15822717284927862388"
     },
     "user_tz": -480
    },
    "id": "UOhRbOnXBrZj",
    "outputId": "fc65f92a-a3ee-46de-d3dd-cbf0c09d5a09"
   },
   "outputs": [
    {
     "name": "stdout",
     "output_type": "stream",
     "text": [
      "Model: \"model_1\"\n",
      "_________________________________________________________________\n",
      " Layer (type)                Output Shape              Param #   \n",
      "=================================================================\n",
      " input_6 (InputLayer)        [(None, 64, 120, 1)]      0         \n",
      "                                                                 \n",
      " conv2d_19 (Conv2D)          (None, 64, 120, 32)       832       \n",
      "                                                                 \n",
      " batch_normalization_9 (Batc  (None, 64, 120, 32)      128       \n",
      " hNormalization)                                                 \n",
      "                                                                 \n",
      " activation_9 (Activation)   (None, 64, 120, 32)       0         \n",
      "                                                                 \n",
      " max_pooling2d_9 (MaxPooling  (None, 32, 60, 32)       0         \n",
      " 2D)                                                             \n",
      "                                                                 \n",
      " conv2d_20 (Conv2D)          (None, 32, 60, 16)        12816     \n",
      "                                                                 \n",
      " batch_normalization_10 (Bat  (None, 32, 60, 16)       64        \n",
      " chNormalization)                                                \n",
      "                                                                 \n",
      " activation_10 (Activation)  (None, 32, 60, 16)        0         \n",
      "                                                                 \n",
      " max_pooling2d_10 (MaxPoolin  (None, 16, 30, 16)       0         \n",
      " g2D)                                                            \n",
      "                                                                 \n",
      " conv2d_21 (Conv2D)          (None, 16, 30, 8)         3208      \n",
      "                                                                 \n",
      " batch_normalization_11 (Bat  (None, 16, 30, 8)        32        \n",
      " chNormalization)                                                \n",
      "                                                                 \n",
      " activation_11 (Activation)  (None, 16, 30, 8)         0         \n",
      "                                                                 \n",
      " max_pooling2d_11 (MaxPoolin  (None, 8, 15, 8)         0         \n",
      " g2D)                                                            \n",
      "                                                                 \n",
      " conv2d_22 (Conv2D)          (None, 8, 15, 1)          201       \n",
      "                                                                 \n",
      " batch_normalization_12 (Bat  (None, 8, 15, 1)         4         \n",
      " chNormalization)                                                \n",
      "                                                                 \n",
      " activation_12 (Activation)  (None, 8, 15, 1)          0         \n",
      "                                                                 \n",
      " max_pooling2d_12 (MaxPoolin  (None, 4, 5, 1)          0         \n",
      " g2D)                                                            \n",
      "                                                                 \n",
      " conv2d_23 (Conv2D)          (None, 4, 5, 1)           26        \n",
      "                                                                 \n",
      " up_sampling2d_8 (UpSampling  (None, 8, 15, 1)         0         \n",
      " 2D)                                                             \n",
      "                                                                 \n",
      " conv2d_24 (Conv2D)          (None, 8, 15, 8)          208       \n",
      "                                                                 \n",
      " up_sampling2d_9 (UpSampling  (None, 16, 30, 8)        0         \n",
      " 2D)                                                             \n",
      "                                                                 \n",
      " conv2d_25 (Conv2D)          (None, 16, 30, 16)        3216      \n",
      "                                                                 \n",
      " up_sampling2d_10 (UpSamplin  (None, 32, 60, 16)       0         \n",
      " g2D)                                                            \n",
      "                                                                 \n",
      " conv2d_26 (Conv2D)          (None, 32, 60, 32)        12832     \n",
      "                                                                 \n",
      " up_sampling2d_11 (UpSamplin  (None, 64, 120, 32)      0         \n",
      " g2D)                                                            \n",
      "                                                                 \n",
      " conv2d_27 (Conv2D)          (None, 64, 120, 1)        801       \n",
      "                                                                 \n",
      "=================================================================\n",
      "Total params: 34,368\n",
      "Trainable params: 34,254\n",
      "Non-trainable params: 114\n",
      "_________________________________________________________________\n"
     ]
    }
   ],
   "source": [
    "#Build the autoencoder\n",
    "autoencoder = Model(input_img, decoded)\n",
    "autoencoder.summary()"
   ]
  },
  {
   "cell_type": "code",
   "execution_count": 45,
   "metadata": {
    "id": "PkBQuFyyznr9"
   },
   "outputs": [],
   "source": [
    "epochs = 50\n",
    "adam = Adam(lr=0.001, beta_1=0.9, beta_2=0.999, amsgrad=False)\n",
    "autoencoder.compile(optimizer = \"adam\", loss = \"mse\")"
   ]
  },
  {
   "cell_type": "code",
   "execution_count": 46,
   "metadata": {
    "colab": {
     "base_uri": "https://localhost:8080/"
    },
    "executionInfo": {
     "elapsed": 10273,
     "status": "ok",
     "timestamp": 1636382589074,
     "user": {
      "displayName": "Kokul Siddharth",
      "photoUrl": "https://lh3.googleusercontent.com/a/default-user=s64",
      "userId": "15822717284927862388"
     },
     "user_tz": -480
    },
    "id": "WyKtiJqJ7Oz7",
    "outputId": "52bdcb71-ff1d-47fe-c5f1-ea95b04208b7"
   },
   "outputs": [
    {
     "name": "stdout",
     "output_type": "stream",
     "text": [
      "Epoch 1/50\n",
      "1324/1324 [==============================] - 292s 220ms/step - loss: 0.0222 - val_loss: 0.0177\n",
      "Epoch 2/50\n",
      "1324/1324 [==============================] - 300s 227ms/step - loss: 0.0164 - val_loss: 0.0167\n",
      "Epoch 3/50\n",
      "1324/1324 [==============================] - 304s 229ms/step - loss: 0.0143 - val_loss: 0.0138\n",
      "Epoch 4/50\n",
      "1324/1324 [==============================] - 305s 231ms/step - loss: 0.0132 - val_loss: 0.0130\n",
      "Epoch 5/50\n",
      "1324/1324 [==============================] - 305s 231ms/step - loss: 0.0125 - val_loss: 0.0120\n",
      "Epoch 6/50\n",
      "1324/1324 [==============================] - 307s 232ms/step - loss: 0.0120 - val_loss: 0.0120\n",
      "Epoch 7/50\n",
      "1324/1324 [==============================] - 297s 224ms/step - loss: 0.0116 - val_loss: 0.0114\n",
      "Epoch 8/50\n",
      "1324/1324 [==============================] - 298s 225ms/step - loss: 0.0113 - val_loss: 0.0111\n",
      "Epoch 9/50\n",
      "1324/1324 [==============================] - 305s 230ms/step - loss: 0.0111 - val_loss: 0.0110\n",
      "Epoch 10/50\n",
      "1324/1324 [==============================] - 307s 232ms/step - loss: 0.0109 - val_loss: 0.0108\n",
      "Epoch 11/50\n",
      "1324/1324 [==============================] - 309s 233ms/step - loss: 0.0108 - val_loss: 0.0110\n",
      "Epoch 12/50\n",
      "1324/1324 [==============================] - 313s 236ms/step - loss: 0.0106 - val_loss: 0.0106\n",
      "Epoch 13/50\n",
      "1324/1324 [==============================] - 315s 238ms/step - loss: 0.0105 - val_loss: 0.0102\n",
      "Epoch 14/50\n",
      "1324/1324 [==============================] - 318s 240ms/step - loss: 0.0104 - val_loss: 0.0108\n",
      "Epoch 15/50\n",
      "1324/1324 [==============================] - 317s 240ms/step - loss: 0.0103 - val_loss: 0.0102\n",
      "Epoch 16/50\n",
      "1324/1324 [==============================] - 318s 240ms/step - loss: 0.0102 - val_loss: 0.0101\n",
      "Epoch 17/50\n",
      "1324/1324 [==============================] - 318s 240ms/step - loss: 0.0102 - val_loss: 0.0102\n",
      "Epoch 18/50\n",
      "1324/1324 [==============================] - 318s 240ms/step - loss: 0.0101 - val_loss: 0.0107\n",
      "Epoch 19/50\n",
      "1324/1324 [==============================] - 319s 241ms/step - loss: 0.0100 - val_loss: 0.0103\n",
      "Epoch 20/50\n",
      "1324/1324 [==============================] - 319s 241ms/step - loss: 0.0101 - val_loss: 0.0100\n",
      "Epoch 21/50\n",
      "1324/1324 [==============================] - 318s 240ms/step - loss: 0.0100 - val_loss: 0.0099\n",
      "Epoch 22/50\n",
      "1324/1324 [==============================] - 318s 240ms/step - loss: 0.0099 - val_loss: 0.0098\n",
      "Epoch 23/50\n",
      "1324/1324 [==============================] - 318s 240ms/step - loss: 0.0099 - val_loss: 0.0096\n",
      "Epoch 24/50\n",
      "1324/1324 [==============================] - 318s 240ms/step - loss: 0.0098 - val_loss: 0.0097\n",
      "Epoch 25/50\n",
      "1324/1324 [==============================] - 318s 240ms/step - loss: 0.0098 - val_loss: 0.0107\n",
      "Epoch 26/50\n",
      "1324/1324 [==============================] - 318s 240ms/step - loss: 0.0098 - val_loss: 0.0096\n",
      "Epoch 27/50\n",
      "1324/1324 [==============================] - 318s 240ms/step - loss: 0.0098 - val_loss: 0.0103\n",
      "Epoch 28/50\n",
      "1324/1324 [==============================] - 319s 241ms/step - loss: 0.0097 - val_loss: 0.0095\n",
      "Epoch 29/50\n",
      "1324/1324 [==============================] - 319s 241ms/step - loss: 0.0096 - val_loss: 0.0095\n",
      "Epoch 30/50\n",
      "1324/1324 [==============================] - 319s 241ms/step - loss: 0.0097 - val_loss: 0.0097\n",
      "Epoch 31/50\n",
      "1324/1324 [==============================] - 319s 241ms/step - loss: 0.0096 - val_loss: 0.0097\n",
      "Epoch 32/50\n",
      "1324/1324 [==============================] - 319s 241ms/step - loss: 0.0096 - val_loss: 0.0097\n",
      "Epoch 33/50\n",
      "1324/1324 [==============================] - 319s 241ms/step - loss: 0.0096 - val_loss: 0.0099\n",
      "Epoch 34/50\n",
      "1324/1324 [==============================] - 319s 241ms/step - loss: 0.0095 - val_loss: 0.0095\n",
      "Epoch 35/50\n",
      "1324/1324 [==============================] - 319s 241ms/step - loss: 0.0095 - val_loss: 0.0094\n",
      "Epoch 36/50\n",
      "1324/1324 [==============================] - 319s 241ms/step - loss: 0.0095 - val_loss: 0.0093\n",
      "Epoch 37/50\n",
      "1324/1324 [==============================] - 318s 240ms/step - loss: 0.0095 - val_loss: 0.0101\n",
      "Epoch 38/50\n",
      "1324/1324 [==============================] - 318s 241ms/step - loss: 0.0095 - val_loss: 0.0097\n",
      "Epoch 39/50\n",
      "1324/1324 [==============================] - 318s 240ms/step - loss: 0.0094 - val_loss: 0.0095\n",
      "Epoch 40/50\n",
      "1324/1324 [==============================] - 318s 240ms/step - loss: 0.0094 - val_loss: 0.0094\n",
      "Epoch 41/50\n",
      "1324/1324 [==============================] - 319s 241ms/step - loss: 0.0094 - val_loss: 0.0093\n",
      "Epoch 42/50\n",
      "1324/1324 [==============================] - 318s 241ms/step - loss: 0.0094 - val_loss: 0.0092\n",
      "Epoch 43/50\n",
      "1324/1324 [==============================] - 319s 241ms/step - loss: 0.0094 - val_loss: 0.0096\n",
      "Epoch 44/50\n",
      "1324/1324 [==============================] - 319s 241ms/step - loss: 0.0094 - val_loss: 0.0093\n",
      "Epoch 45/50\n",
      "1324/1324 [==============================] - 318s 240ms/step - loss: 0.0093 - val_loss: 0.0092\n",
      "Epoch 46/50\n",
      "1324/1324 [==============================] - 319s 241ms/step - loss: 0.0093 - val_loss: 0.0098\n",
      "Epoch 47/50\n",
      "1324/1324 [==============================] - 319s 241ms/step - loss: 0.0093 - val_loss: 0.0093\n",
      "Epoch 48/50\n",
      "1324/1324 [==============================] - 318s 240ms/step - loss: 0.0093 - val_loss: 0.0092\n",
      "Epoch 49/50\n",
      "1324/1324 [==============================] - 318s 240ms/step - loss: 0.0093 - val_loss: 0.0099\n",
      "Epoch 50/50\n",
      "1324/1324 [==============================] - 319s 241ms/step - loss: 0.0093 - val_loss: 0.0095\n"
     ]
    }
   ],
   "source": [
    "cae = autoencoder.fit(x_train, x_train, epochs=epochs, batch_size = 16, validation_data=(x_val, x_val)) "
   ]
  },
  {
   "cell_type": "code",
   "execution_count": 47,
   "metadata": {
    "colab": {
     "base_uri": "https://localhost:8080/",
     "height": 313
    },
    "executionInfo": {
     "elapsed": 594,
     "status": "ok",
     "timestamp": 1636382693813,
     "user": {
      "displayName": "Kokul Siddharth",
      "photoUrl": "https://lh3.googleusercontent.com/a/default-user=s64",
      "userId": "15822717284927862388"
     },
     "user_tz": -480
    },
    "id": "P8bIWXFrGwqo",
    "outputId": "acb9112c-1373-4cd2-9a20-4f4fbe052a2a"
   },
   "outputs": [
    {
     "data": {
      "text/plain": [
       "<matplotlib.legend.Legend at 0x13bce75bf10>"
      ]
     },
     "execution_count": 47,
     "metadata": {},
     "output_type": "execute_result"
    },
    {
     "data": {
      "image/png": "[encoded data removed]",
      "text/plain": [
       "<Figure size 432x288 with 1 Axes>"
      ]
     },
     "metadata": {
      "needs_background": "light"
     },
     "output_type": "display_data"
    }
   ],
   "source": [
    "plt.plot(cae.history['loss'])\n",
    "plt.plot(cae.history['val_loss'])\n",
    "plt.title('model loss')\n",
    "plt.ylabel('loss')\n",
    "plt.xlabel('epoch')\n",
    "plt.legend(['Train', 'Validation'], loc='upper left')\n",
    "# plt.savefig(output + '/' + \"model_loss\" + '.png')\n",
    "# print(\"model_loss\" + '.png')"
   ]
  },
  {
   "cell_type": "code",
   "execution_count": 48,
   "metadata": {
    "id": "UUgA16Yz1_gC"
   },
   "outputs": [],
   "source": [
    "autoencoder.save('../models/autoencoder_30birds_50epochs.h5')"
   ]
  }
 ],
 "metadata": {
  "accelerator": "GPU",
  "colab": {
   "collapsed_sections": [],
   "machine_shape": "hm",
   "name": "Train_cluster.ipynb",
   "provenance": [
    {
     "file_id": "11VBgBuNjEmo-X1XSsXR3ZfWxqxMSEMH8",
     "timestamp": 1636288361197
    },
    {
     "file_id": "1KFVrSfdfaRl8W_m8PThImFWS0Kq9zZwV",
     "timestamp": 1583591143542
    },
    {
     "file_id": "1CLDN19MuojA9vBdaGiJaBTlv-xvPPmK4",
     "timestamp": 1578753793505
    }
   ]
  },
  "kernelspec": {
   "display_name": "Python 3",
   "language": "python",
   "name": "python3"
  },
  "language_info": {
   "codemirror_mode": {
    "name": "ipython",
    "version": 3
   },
   "file_extension": ".py",
   "mimetype": "text/x-python",
   "name": "python",
   "nbconvert_exporter": "python",
   "pygments_lexer": "ipython3",
   "version": "3.8.8"
  }
 },
 "nbformat": 4,
 "nbformat_minor": 1
}
